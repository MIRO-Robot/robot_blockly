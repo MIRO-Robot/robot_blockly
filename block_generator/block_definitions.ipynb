{
 "cells": [
  {
   "cell_type": "code",
   "execution_count": 1,
   "metadata": {
    "collapsed": false
   },
   "outputs": [],
   "source": [
    "import rospy\n",
    "rospy.init_node('blockly_server', anonymous=True)\n",
    "# Copied imports for setup_miro here to allow execution of other functions\n",
    "from miro_msgs.msg import platform_control\n",
    "from miro_constants import miro\n",
    "from geometry_msgs.msg import Twist\n",
    "from sensor_msgs.msg import Range, Image\n",
    "from time import sleep\n",
    "global q, pub, current_robot, rate\n",
    "# These global variables need to be added inside of each function"
   ]
  },
  {
   "cell_type": "code",
   "execution_count": 2,
   "metadata": {
    "collapsed": false
   },
   "outputs": [],
   "source": [
    "# Colour: 230\n",
    "def setup_miro():\n",
    "    global q, pub, current_robot, rate\n",
    "    from miro_constants import miro\n",
    "    from miro_msgs.msg import platform_control\n",
    "    from geometry_msgs.msg import Twist\n",
    "    from time import sleep\n",
    "\n",
    "    if ('current_robot' not in locals()):\n",
    "        current_robot = 'sim01'\n",
    "\n",
    "    pub = rospy.Publisher('/miro/' + current_robot + '/platform/control',\n",
    "        platform_control, queue_size=10)\n",
    "    rate = rospy.Rate(10)\n",
    "    q = platform_control()"
   ]
  },
  {
   "cell_type": "code",
   "execution_count": 3,
   "metadata": {
    "collapsed": false
   },
   "outputs": [],
   "source": [
    "setup_miro()"
   ]
  },
  {
   "cell_type": "code",
   "execution_count": 4,
   "metadata": {
    "collapsed": true
   },
   "outputs": [],
   "source": [
    "# Colour: 230\n",
    "def move_backward():\n",
    "    global q, pub, current_robot, rate\n",
    "    body_vel = Twist()\n",
    "    body_vel.angular.x = 0\n",
    "    body_vel.linear.x = -200\n",
    "    q.body_vel = body_vel\n",
    "\n",
    "    #ensures that at least one node is connected before sending message\n",
    "    while(pub.get_num_connections() == 0):\n",
    "        rate.sleep()\n",
    "    pub.publish(q)\n",
    "    sleep(3)\t#Allow time for the move to be executed"
   ]
  },
  {
   "cell_type": "code",
   "execution_count": 5,
   "metadata": {
    "collapsed": false
   },
   "outputs": [],
   "source": [
    "move_backwards()"
   ]
  },
  {
   "cell_type": "code",
   "execution_count": 6,
   "metadata": {
    "collapsed": true
   },
   "outputs": [],
   "source": [
    "# Colour: 230\n",
    "def move_forward():\n",
    "    global q, pub, current_robot, rate\n",
    "    body_vel = Twist()\n",
    "    body_vel.angular.x = 0\n",
    "    body_vel.linear.x = +200\n",
    "    q.body_vel = body_vel\n",
    "\n",
    "    #ensures that at least one node is connected before sending message\n",
    "    while(pub.get_num_connections() == 0):\n",
    "        rate.sleep()\n",
    "    pub.publish(q)\n",
    "    sleep(3)\t#Allow time for the move to be executed"
   ]
  },
  {
   "cell_type": "code",
   "execution_count": 7,
   "metadata": {
    "collapsed": true
   },
   "outputs": [],
   "source": [
    "move_forwards()"
   ]
  },
  {
   "cell_type": "code",
   "execution_count": 8,
   "metadata": {
    "collapsed": true
   },
   "outputs": [],
   "source": [
    "# Colour: 230\n",
    "def turn_left():\n",
    "    global q, pub, current_robot, rate\n",
    "    body_vel = Twist()\n",
    "    body_vel.angular.z = +0.785398\n",
    "    q.body_vel = body_vel\n",
    "\n",
    "    #ensures that at least one node is connected before sending message\n",
    "    while(pub.get_num_connections() == 0):\n",
    "        rate.sleep()\n",
    "    pub.publish(q)\n",
    "    sleep(3)\t#Allow time for the move to be executed"
   ]
  },
  {
   "cell_type": "code",
   "execution_count": 9,
   "metadata": {
    "collapsed": true
   },
   "outputs": [],
   "source": [
    "turn_left()"
   ]
  },
  {
   "cell_type": "code",
   "execution_count": 10,
   "metadata": {
    "collapsed": true
   },
   "outputs": [],
   "source": [
    "# Colour: 230\n",
    "def turn_right():\n",
    "    global q, pub, current_robot, rate\n",
    "    body_vel = Twist()\n",
    "    body_vel.angular.z = -0.785398\n",
    "    q.body_vel = body_vel\n",
    "\n",
    "    #ensures that at least one node is connected before sending message\n",
    "    while(pub.get_num_connections() == 0):\n",
    "        rate.sleep()\n",
    "    pub.publish(q)\n",
    "    sleep(3)\t#Allow time for the move to be executed"
   ]
  },
  {
   "cell_type": "code",
   "execution_count": 11,
   "metadata": {
    "collapsed": true
   },
   "outputs": [],
   "source": [
    "turn_right()"
   ]
  },
  {
   "cell_type": "code",
   "execution_count": 12,
   "metadata": {
    "collapsed": false
   },
   "outputs": [],
   "source": [
    "# Colour: 160\n",
    "def get_distance():\n",
    "    global q, pub, current_robot, rate\n",
    "    msg_distance = rospy.wait_for_message('/miro/' + current_robot + '/sensors/sonar_range', Range, timeout=1)\n",
    "    return msg_distance.range"
   ]
  },
  {
   "cell_type": "code",
   "execution_count": 13,
   "metadata": {
    "collapsed": false
   },
   "outputs": [
    {
     "data": {
      "text/plain": [
       "0.22988508641719818"
      ]
     },
     "execution_count": 13,
     "metadata": {},
     "output_type": "execute_result"
    }
   ],
   "source": [
    "get_distance()"
   ]
  },
  {
   "cell_type": "code",
   "execution_count": 14,
   "metadata": {
    "collapsed": true
   },
   "outputs": [],
   "source": [
    "# Interface: dropdown\n",
    "# UserParameters: [Up, Down, Centre]\n",
    "# CodeParameters: [L_UP, L_DOWN, L_CENTRE]\n",
    "# Colour: 180\n",
    "def lift_neck(dropdown_lift):\n",
    "    global q, pub, current_robot, rate\n",
    "    if dropdown_lift == 'L_UP':\n",
    "        direction = miro.MIRO_LIFT_MIN_RAD\n",
    "    elif dropdown_lift == 'L_DOWN':\n",
    "        direction = miro.MIRO_LIFT_MAX_RAD\n",
    "    else:\n",
    "        direction = (miro.MIRO_LIFT_MIN_RAD + miro.MIRO_LIFT_MAX_RAD )/2\n",
    "    q.body_vel = Twist()\n",
    "    q.body_config[1] = direction\n",
    "    q.body_config_speed[1] = miro.MIRO_P2U_W_LEAN_SPEED_INF\n",
    "\n",
    "    #ensures that at least one node is connected before sending message\n",
    "    while(pub.get_num_connections() == 0):\n",
    "        rate.sleep()\n",
    "    pub.publish(q)\n",
    "    sleep(3)#Allow time for the move to be executed"
   ]
  },
  {
   "cell_type": "code",
   "execution_count": null,
   "metadata": {
    "collapsed": false
   },
   "outputs": [],
   "source": []
  },
  {
   "cell_type": "code",
   "execution_count": 15,
   "metadata": {
    "collapsed": false
   },
   "outputs": [],
   "source": [
    "lift_neck(\"L_DOWN\")\n",
    "lift_neck(\"L_UP\")\n",
    "lift_neck(\"L_CENTRE\")"
   ]
  },
  {
   "cell_type": "code",
   "execution_count": 16,
   "metadata": {
    "collapsed": true
   },
   "outputs": [],
   "source": [
    "# Interface: dropdown\n",
    "# UserParameters: [Up, Down, Centre]\n",
    "# CodeParameters: [P_UP, P_DOWN, P_CENTRE]\n",
    "# Colour: 180\n",
    "def pitch_neck(dropdown_pitch):\n",
    "    global q, pub, current_robot, rate\n",
    "    if dropdown_pitch == 'P_UP':\n",
    "        direction = miro.MIRO_PITCH_MIN_RAD\n",
    "    elif dropdown_pitch == 'P_DOWN':\n",
    "        direction = miro.MIRO_PITCH_MAX_RAD\n",
    "    else:\n",
    "        direction = (miro.MIRO_PITCH_MIN_RAD + miro.MIRO_PITCH_MAX_RAD )/2\n",
    "    \n",
    "    q.body_vel = Twist()\n",
    "    q.body_config[3] = direction\n",
    "    q.body_config_speed[3] = miro.MIRO_P2U_W_LEAN_SPEED_INF\n",
    "\n",
    "    #ensures that at least one node is connected before sending message\n",
    "    while(pub.get_num_connections() == 0):\n",
    "        rate.sleep()\n",
    "    pub.publish(q)\n",
    "    sleep(3)\t#Allow time for the move to be executed"
   ]
  },
  {
   "cell_type": "code",
   "execution_count": 17,
   "metadata": {
    "collapsed": true
   },
   "outputs": [],
   "source": [
    "pitch_neck(\"P_DOWN\")\n",
    "pitch_neck(\"P_UP\")\n",
    "pitch_neck(\"P_CENTRE\")"
   ]
  },
  {
   "cell_type": "code",
   "execution_count": 18,
   "metadata": {
    "collapsed": true
   },
   "outputs": [],
   "source": [
    "# Interface: dropdown\n",
    "# UserParameters: [Right, Left, Centre]\n",
    "# CodeParameters: [Y_RIGHT, Y_LEFT, Y_CENTRE]\n",
    "# Colour: 180\n",
    "def yaw_neck(dropdown_yaw):\n",
    "    global q, pub, current_robot, rate\n",
    "    if dropdown_yaw == 'Y_RIGHT':\n",
    "        direction = miro.MIRO_YAW_MAX_RAD\n",
    "    elif dropdown_yaw == 'Y_LEFT':\n",
    "        direction = miro.MIRO_YAW_MIN_RAD\n",
    "    else:\n",
    "        direction = (miro.MIRO_YAW_MIN_RAD + miro.MIRO_YAW_MAX_RAD )/2\n",
    "    \n",
    "    q.body_vel = Twist()\n",
    "    q.body_config[2] = direction\n",
    "    q.body_config_speed[2] = miro.MIRO_P2U_W_LEAN_SPEED_INF\n",
    "\n",
    "    #ensures that at least one node is connected before sending message\n",
    "    while(pub.get_num_connections() == 0):\n",
    "        rate.sleep()\n",
    "    pub.publish(q)\n",
    "    sleep(3)\t#Allow time for the move to be executed"
   ]
  },
  {
   "cell_type": "code",
   "execution_count": 19,
   "metadata": {
    "collapsed": true
   },
   "outputs": [],
   "source": [
    "yaw_neck(\"Y_RIGHT\")\n",
    "yaw_neck(\"Y_LEFT\")\n",
    "yaw_neck(\"Y_CENTRE\")"
   ]
  },
  {
   "cell_type": "raw",
   "metadata": {
    "collapsed": false
   },
   "source": [
    "Under development\n",
    "def get_cam_colour(colorBGR):\n",
    "    global q, pub, current_robot, rate\n",
    "    #colorBGR (colour picker input)\n",
    "    inB = int(colorBGR.split(',')[0])\n",
    "    inG = int(colorBGR.split(',')[1])\n",
    "    inR = int(colorBGR.split(',')[2])\n",
    "\n",
    "    # msg_distance = rospy.wait_for_message('/miro/' + current_robot + '/sensors/sonar_range', Range, timeout=1)\n",
    "\n",
    "    image_msg = rospy.wait_for_message('/miro/' + current_robot + '/platform/' + cam_location, Image, timeout=10)\n",
    "    \n",
    "    h  = image_msg.height\n",
    "    w  = image_msg.width\n",
    "    data = image_msg.data\n",
    "\n",
    "    # Find central(-ish) pixel, bottom right one in a even x even image\n",
    "    position = ((h/2) * w + w/2) * 3\n",
    "\n",
    "    # get the 3 colour components of the central pixel\n",
    "    B = data[position]\n",
    "    G = data[position + 1]\n",
    "    R = data[position + 2]\n",
    "\n",
    "    th = 15\n",
    "    result = False\n",
    "    if math.abs(inB - B) <= th and math.abs(inG - G) <= th and math.abs(inR - R) <= th:\n",
    "        result = True"
   ]
  },
  {
   "cell_type": "code",
   "execution_count": 21,
   "metadata": {
    "collapsed": false
   },
   "outputs": [
    {
     "ename": "NameError",
     "evalue": "global name 'cam_location' is not defined",
     "output_type": "error",
     "traceback": [
      "\u001b[0;31m---------------------------------------------------------------------------\u001b[0m",
      "\u001b[0;31mNameError\u001b[0m                                 Traceback (most recent call last)",
      "\u001b[0;32m<ipython-input-21-a11e21baa30a>\u001b[0m in \u001b[0;36m<module>\u001b[0;34m()\u001b[0m\n\u001b[0;32m----> 1\u001b[0;31m \u001b[0mget_cam_colour\u001b[0m\u001b[0;34m(\u001b[0m\u001b[0;34m\"0,100,0\"\u001b[0m\u001b[0;34m)\u001b[0m\u001b[0;34m\u001b[0m\u001b[0m\n\u001b[0m",
      "\u001b[0;32m<ipython-input-20-21f6361ec9fd>\u001b[0m in \u001b[0;36mget_cam_colour\u001b[0;34m(colorBGR)\u001b[0m\n\u001b[1;32m      8\u001b[0m     \u001b[0;31m# msg_distance = rospy.wait_for_message('/miro/' + current_robot + '/sensors/sonar_range', Range, timeout=1)\u001b[0m\u001b[0;34m\u001b[0m\u001b[0;34m\u001b[0m\u001b[0m\n\u001b[1;32m      9\u001b[0m \u001b[0;34m\u001b[0m\u001b[0m\n\u001b[0;32m---> 10\u001b[0;31m     \u001b[0mimage_msg\u001b[0m \u001b[0;34m=\u001b[0m \u001b[0mrospy\u001b[0m\u001b[0;34m.\u001b[0m\u001b[0mwait_for_message\u001b[0m\u001b[0;34m(\u001b[0m\u001b[0;34m'/miro/'\u001b[0m \u001b[0;34m+\u001b[0m \u001b[0mcurrent_robot\u001b[0m \u001b[0;34m+\u001b[0m \u001b[0;34m'/platform/'\u001b[0m \u001b[0;34m+\u001b[0m \u001b[0mcam_location\u001b[0m\u001b[0;34m,\u001b[0m \u001b[0mImage\u001b[0m\u001b[0;34m,\u001b[0m \u001b[0mtimeout\u001b[0m\u001b[0;34m=\u001b[0m\u001b[0;36m10\u001b[0m\u001b[0;34m)\u001b[0m\u001b[0;34m\u001b[0m\u001b[0m\n\u001b[0m\u001b[1;32m     11\u001b[0m \u001b[0;34m\u001b[0m\u001b[0m\n\u001b[1;32m     12\u001b[0m     \u001b[0mh\u001b[0m  \u001b[0;34m=\u001b[0m \u001b[0mimage_msg\u001b[0m\u001b[0;34m.\u001b[0m\u001b[0mheight\u001b[0m\u001b[0;34m\u001b[0m\u001b[0m\n",
      "\u001b[0;31mNameError\u001b[0m: global name 'cam_location' is not defined"
     ]
    }
   ],
   "source": [
    "get_cam_colour(\"0,100,0\")"
   ]
  },
  {
   "cell_type": "code",
   "execution_count": null,
   "metadata": {
    "collapsed": true
   },
   "outputs": [],
   "source": [
    "setup_miro()\n",
    "move_forwards()\n",
    "turn_left()\n",
    "move_backwards()\n",
    "turn_right()\n",
    "lift_neck()\n",
    "yaw_neck()\n",
    "pitch_neck()\n"
   ]
  }
 ],
 "metadata": {
  "anaconda-cloud": {},
  "kernelspec": {
   "display_name": "Python [default]",
   "language": "python",
   "name": "python2"
  },
  "language_info": {
   "codemirror_mode": {
    "name": "ipython",
    "version": 2
   },
   "file_extension": ".py",
   "mimetype": "text/x-python",
   "name": "python",
   "nbconvert_exporter": "python",
   "pygments_lexer": "ipython2",
   "version": "2.7.12"
  }
 },
 "nbformat": 4,
 "nbformat_minor": 0
}
