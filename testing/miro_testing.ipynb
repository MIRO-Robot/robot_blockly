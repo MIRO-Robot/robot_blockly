{
 "cells": [
  {
   "cell_type": "code",
   "execution_count": 6,
   "metadata": {
    "collapsed": false
   },
   "outputs": [],
   "source": [
    "import rospy\n",
    "rospy.init_node('blockly_server', anonymous=True)"
   ]
  },
  {
   "cell_type": "code",
   "execution_count": 7,
   "metadata": {
    "collapsed": true
   },
   "outputs": [],
   "source": [
    "from miro_msgs.msg import platform_control\n",
    "from geometry_msgs.msg import Twist\n",
    "from time import sleep\n",
    "\n",
    "if ('current_robot' not in locals()):\n",
    "\tcurrent_robot = 'sim01'\n",
    "\n",
    "pub = rospy.Publisher('/miro/' + current_robot + '/platform/control',\n",
    "    platform_control, queue_size=10)\n",
    "rate = rospy.Rate(10)\n",
    "q = platform_control()\n",
    "body_vel = Twist()\n",
    "body_vel.angular.x = 0\n",
    "body_vel.linear.x = -200\n",
    "q.body_vel = body_vel\n",
    "\n",
    "#ensures that at least one node is connected before sending message\n",
    "while(pub.get_num_connections() == 0):\n",
    "\trate.sleep()\n",
    "pub.publish(q)\n",
    "sleep(4)\t#Allow time for the move to be executed"
   ]
  },
  {
   "cell_type": "code",
   "execution_count": 14,
   "metadata": {
    "collapsed": true
   },
   "outputs": [],
   "source": [
    "for dropdown_yaw in [\"Y_RIGHT\", \"Y_LEFT\", \"Y_CENTRE\"]:\n",
    "    from miro_msgs.msg import platform_control\n",
    "    from time import sleep\n",
    "    from miro_constants import miro\n",
    "\n",
    "\n",
    "\n",
    "    if ('current_robot' not in locals()):\n",
    "        current_robot = 'sim01'\n",
    "\n",
    "    pub = rospy.Publisher('/miro/' + current_robot + '/platform/control',\n",
    "        platform_control, queue_size=10)\n",
    "\n",
    "    rate = rospy.Rate(10)\n",
    "    q = platform_control()\n",
    "\n",
    "    if dropdown_yaw == 'Y_RIGHT':\n",
    "        direction = miro.MIRO_YAW_MAX_RAD\n",
    "    elif dropdown_yaw == 'Y_LEFT':\n",
    "        direction = miro.MIRO_YAW_MIN_RAD\n",
    "    else:\n",
    "        direction = (miro.MIRO_YAW_MIN_RAD + miro.MIRO_YAW_MAX_RAD )/2\n",
    "\n",
    "    q.body_config[2] = direction\n",
    "    q.body_config_speed[2] = miro.MIRO_P2U_W_LEAN_SPEED_INF\n",
    "\n",
    "    #ensures that at least one node is connected before sending message\n",
    "    while(pub.get_num_connections() == 0):\n",
    "        rate.sleep()\n",
    "    pub.publish(q)\n",
    "    sleep(1)\t"
   ]
  },
  {
   "cell_type": "code",
   "execution_count": 17,
   "metadata": {
    "collapsed": false
   },
   "outputs": [],
   "source": [
    "for dropdown_pitch in [\"Y_UP\", \"Y_DOWN\", \"Y_CENTRE\"]:\n",
    "    from miro_msgs.msg import platform_control\n",
    "    from time import sleep\n",
    "    from miro_constants import miro\n",
    "\n",
    "\n",
    "    if ('current_robot' not in locals()):\n",
    "        current_robot = 'sim01'\n",
    "\n",
    "    pub = rospy.Publisher('/miro/' + current_robot + '/platform/control',\n",
    "        platform_control, queue_size=10)\n",
    "\n",
    "    rate = rospy.Rate(10)\n",
    "    q = platform_control()\n",
    "\n",
    "    if dropdown_pitch == 'Y_UP':\n",
    "        direction = miro.MIRO_PITCH_MAX_RAD\n",
    "    elif dropdown_pitch == 'Y_DOWN':\n",
    "        direction = miro.MIRO_PITCH_MIN_RAD\n",
    "    else:\n",
    "        direction = (miro.MIRO_PITCH_MIN_RAD + miro.MIRO_PITCH_MAX_RAD )/2\n",
    "\n",
    "    q.body_config[3] = direction\n",
    "    q.body_config_speed[3] = miro.MIRO_P2U_W_LEAN_SPEED_INF\n",
    "\n",
    "    #ensures that at least one node is connected before sending message\n",
    "    while(pub.get_num_connections() == 0):\n",
    "        rate.sleep()\n",
    "    pub.publish(q)\n",
    "    sleep(1)\t#Allow time for the move to be executed\n"
   ]
  },
  {
   "cell_type": "code",
   "execution_count": 18,
   "metadata": {
    "collapsed": true
   },
   "outputs": [],
   "source": [
    "for dropdown_lift in [\"Y_UP\", \"Y_DOWN\", \"Y_CENTRE\"]:\n",
    "    from miro_msgs.msg import platform_control\n",
    "    from time import sleep\n",
    "    from miro_constants import miro\n",
    "\n",
    "\n",
    "    if ('current_robot' not in locals()):\n",
    "        current_robot = 'sim01'\n",
    "\n",
    "    pub = rospy.Publisher('/miro/' + current_robot + '/platform/control',\n",
    "        platform_control, queue_size=10)\n",
    "\n",
    "    rate = rospy.Rate(10)\n",
    "    q = platform_control()\n",
    "\n",
    "    if dropdown_lift == 'Y_UP':\n",
    "        direction = miro.MIRO_LIFT_MAX_RAD\n",
    "    elif dropdown_lift == 'Y_DOWN':\n",
    "        direction = miro.MIRO_LIFT_MIN_RAD\n",
    "    else:\n",
    "        direction = (miro.MIRO_LIFT_MIN_RAD + miro.MIRO_LIFT_MAX_RAD )/2\n",
    "\n",
    "    q.body_config[1] = direction\n",
    "    q.body_config_speed[1] = miro.MIRO_P2U_W_LEAN_SPEED_INF\n",
    "\n",
    "    #ensures that at least one node is connected before sending message\n",
    "    while(pub.get_num_connections() == 0):\n",
    "        rate.sleep()\n",
    "    pub.publish(q)\n",
    "    sleep(4)\t#Allow time for the move to be executed\n"
   ]
  },
  {
   "cell_type": "code",
   "execution_count": null,
   "metadata": {
    "collapsed": true
   },
   "outputs": [],
   "source": []
  }
 ],
 "metadata": {
  "anaconda-cloud": {},
  "kernelspec": {
   "display_name": "Python [default]",
   "language": "python",
   "name": "python2"
  },
  "language_info": {
   "codemirror_mode": {
    "name": "ipython",
    "version": 2
   },
   "file_extension": ".py",
   "mimetype": "text/x-python",
   "name": "python",
   "nbconvert_exporter": "python",
   "pygments_lexer": "ipython2",
   "version": "2.7.12"
  }
 },
 "nbformat": 4,
 "nbformat_minor": 1
}
